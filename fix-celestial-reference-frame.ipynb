{
 "cells": [
  {
   "cell_type": "markdown",
   "id": "ba937073-bd8c-4279-b961-7e164ced3755",
   "metadata": {},
   "source": [
    "# Fix celestial reference frame"
   ]
  },
  {
   "cell_type": "markdown",
   "id": "d8c5bf7b-cb0c-4f02-9441-dce8a70bd431",
   "metadata": {},
   "source": [
    "This notebook fixes the `RADESYS` keyword in the cubes created by `IMAGER`."
   ]
  },
  {
   "cell_type": "markdown",
   "id": "09c99070-1177-43bc-b36a-6e781c469b3c",
   "metadata": {},
   "source": [
    "## Initialisation"
   ]
  },
  {
   "cell_type": "code",
   "execution_count": null,
   "id": "d3ba180b-42c9-494c-a1f4-26cdcb5ba194",
   "metadata": {},
   "outputs": [],
   "source": [
    "!pip install -r requirements.txt > /dev/null"
   ]
  },
  {
   "cell_type": "code",
   "execution_count": null,
   "id": "a72f386b-71ed-4d59-a958-9373b3bb3778",
   "metadata": {},
   "outputs": [],
   "source": [
    "import glob\n",
    "from astropy.io import fits\n",
    "from compass import datadir, fixradesys"
   ]
  },
  {
   "cell_type": "markdown",
   "id": "aa3da98e-23ed-434c-99c4-e4842d6eaccf",
   "metadata": {},
   "source": [
    "## Fix all cubes"
   ]
  },
  {
   "cell_type": "code",
   "execution_count": null,
   "id": "97f8223d-f842-43ff-8857-202550546439",
   "metadata": {},
   "outputs": [],
   "source": [
    "sources = [\n",
    "    #    \"b335\",\n",
    "    #    \"bhr71\",\n",
    "    #   \"hops108\",\n",
    "    #   \"hops373\",\n",
    "    #   \"iras4a\",\n",
    "    #    \"l1551irs5\",\n",
    "    #    \"svs13\",\n",
    "    #   \"v883ori\",\n",
    "    #   \"serp11\",\n",
    "    \"serp1a\",\n",
    "    #   \"serps18\",\n",
    "]\n",
    "dry_run = False"
   ]
  },
  {
   "cell_type": "code",
   "execution_count": null,
   "id": "466f681d-2303-4f03-add9-b54dd721e607",
   "metadata": {},
   "outputs": [],
   "source": [
    "for source in sources:\n",
    "    cubes = glob.glob(datadir + \"/\" + source + \"/cubes/*.fits\")\n",
    "    for cube in cubes:\n",
    "        print(\"Fixing keyword in %s...\" % cube)\n",
    "        if not dry_run:\n",
    "            fixradesys(cube)"
   ]
  },
  {
   "cell_type": "markdown",
   "id": "6e4c52b0-50a3-4942-abb0-50deb476d152",
   "metadata": {},
   "source": [
    "## Check values"
   ]
  },
  {
   "cell_type": "code",
   "execution_count": null,
   "id": "77aac3b4-6d43-47ff-930c-f81fbb21edbd",
   "metadata": {},
   "outputs": [],
   "source": [
    "for source in sources:\n",
    "    cubes = glob.glob(datadir + \"/\" + source + \"/cubes/*.fits\")\n",
    "    for cube in cubes:\n",
    "        with fits.open(cube) as hdul:\n",
    "            hdr = hdul[0].header\n",
    "            if hdr[\"RADESYS\"] != \"ICRS\":\n",
    "                raise ValueError(\"Incorrect header in %s\" % cube)\n",
    "print(\"OK\")"
   ]
  },
  {
   "cell_type": "code",
   "execution_count": null,
   "id": "0fd2796d-9b60-40d5-a425-54c4ce896cdf",
   "metadata": {},
   "outputs": [],
   "source": []
  },
  {
   "cell_type": "code",
   "execution_count": null,
   "id": "f31c593f-28ec-4bd3-ab22-da796d9c2051",
   "metadata": {},
   "outputs": [],
   "source": []
  }
 ],
 "metadata": {
  "kernelspec": {
   "display_name": "Python 3 (ipykernel)",
   "language": "python",
   "name": "python3"
  },
  "language_info": {
   "codemirror_mode": {
    "name": "ipython",
    "version": 3
   },
   "file_extension": ".py",
   "mimetype": "text/x-python",
   "name": "python",
   "nbconvert_exporter": "python",
   "pygments_lexer": "ipython3",
   "version": "3.13.2"
  }
 },
 "nbformat": 4,
 "nbformat_minor": 5
}
