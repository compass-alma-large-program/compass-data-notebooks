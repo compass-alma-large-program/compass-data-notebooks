{
 "cells": [
  {
   "cell_type": "markdown",
   "id": "501c38de-3810-47a0-afc6-f6b005387e3d",
   "metadata": {},
   "source": [
    "# Extract a spectrum on a given position, with a primary beam correction"
   ]
  },
  {
   "cell_type": "markdown",
   "id": "d4019778-4948-47ab-976f-e32bba5eac27",
   "metadata": {},
   "source": [
    "This notebook extracts and plot a spectra from a cube on a given position. It applies the primary beam correction on the spectra."
   ]
  },
  {
   "cell_type": "markdown",
   "id": "36c903d8-0e93-4d6f-b761-336605cf0381",
   "metadata": {},
   "source": [
    "## Initialization"
   ]
  },
  {
   "cell_type": "code",
   "execution_count": null,
   "id": "7f2c134e-3da9-4ec1-9d0c-1f6d11bde518",
   "metadata": {
    "tags": []
   },
   "outputs": [],
   "source": [
    "!pip install -r requirements.txt > /dev/null"
   ]
  },
  {
   "cell_type": "code",
   "execution_count": null,
   "id": "befa2e22-7ff5-47ca-b383-da1c1bd770f8",
   "metadata": {
    "tags": []
   },
   "outputs": [],
   "source": [
    "import numpy as np\n",
    "from astropy import units as u\n",
    "from astropy.coordinates import SkyCoord\n",
    "from spectral_cube import SpectralCube\n",
    "from matplotlib import pyplot as plt\n",
    "from compass import datadir, extract_spectrum_from_cube"
   ]
  },
  {
   "cell_type": "code",
   "execution_count": null,
   "id": "ce2aef43-f5de-4058-ba32-29d4b87b7ae0",
   "metadata": {
    "tags": []
   },
   "outputs": [],
   "source": [
    "%matplotlib widget"
   ]
  },
  {
   "cell_type": "markdown",
   "id": "032ddc7b-64cf-47f4-8ab5-0427939432aa",
   "metadata": {
    "tags": []
   },
   "source": [
    "## Define the source, the frequency setting and the spectral window"
   ]
  },
  {
   "cell_type": "code",
   "execution_count": null,
   "id": "3d297a7f-9469-4bd1-a720-8d79580bde90",
   "metadata": {
    "tags": []
   },
   "outputs": [],
   "source": [
    "source = \"bhr71\"\n",
    "pos = SkyCoord(\"12h01m34.007s\", \"-65d08m48.08s\", frame=\"icrs\")  # IRS2\n",
    "setting = 1\n",
    "spw = 25"
   ]
  },
  {
   "cell_type": "markdown",
   "id": "70716010-1fb5-4c77-831f-1daf39dda178",
   "metadata": {
    "tags": []
   },
   "source": [
    "## Read the cube and extract a spectrum"
   ]
  },
  {
   "cell_type": "code",
   "execution_count": null,
   "id": "a301e747-9abf-4ba4-9af3-7de5f6df33e2",
   "metadata": {
    "tags": []
   },
   "outputs": [],
   "source": [
    "cube = SpectralCube.read(\n",
    "    datadir + \"{}/cubes/{}-set{}-spw{}-lines.fits\".format(source, source, setting, spw)\n",
    ")\n",
    "restfreq = cube.header[\"RESTFRQ\"] * u.Hz\n",
    "spectrum = extract_spectrum_from_cube(cube, pos)\n",
    "spectrum_with_correction = extract_spectrum_from_cube(\n",
    "    cube, pos, primary_beam_correction=True\n",
    ")"
   ]
  },
  {
   "cell_type": "markdown",
   "id": "38f586aa-8937-4104-b59d-b29d929d484a",
   "metadata": {},
   "source": [
    "## Plot the spectrum"
   ]
  },
  {
   "cell_type": "code",
   "execution_count": null,
   "id": "afdf9f3d-2997-4ee1-8022-3de32e5023f1",
   "metadata": {
    "tags": []
   },
   "outputs": [],
   "source": [
    "fig, ax = plt.subplots(\n",
    "    num=\"{} setting {} spw {}\".format(source, setting, spw), clear=True\n",
    ")\n",
    "ax.step(\n",
    "    spectrum.spectral_axis.to(u.GHz, equivalencies=u.doppler_radio(restfreq)).value,\n",
    "    spectrum.to(u.K).value,\n",
    "    label=\"Without correction\",\n",
    "    zorder=2,\n",
    ")\n",
    "ax.step(\n",
    "    spectrum_with_correction.spectral_axis.to(\n",
    "        u.GHz, equivalencies=u.doppler_radio(restfreq)\n",
    "    ).value,\n",
    "    spectrum_with_correction.to(u.K).value,\n",
    "    label=\"With correction\",\n",
    "    zorder=1,\n",
    ")\n",
    "baseline = np.zeros_like(spectrum.spectral_axis.value)\n",
    "ax.plot(\n",
    "    spectrum.spectral_axis.to(u.GHz, equivalencies=u.doppler_radio(restfreq)).value,\n",
    "    baseline,\n",
    "    color=\"black\",\n",
    "    linestyle=\"dotted\",\n",
    ")\n",
    "ax.legend()\n",
    "ax.set_xlabel(\"Frequency (GHz)\")\n",
    "ax.set_ylabel(\"Brightness temperature (K)\")"
   ]
  }
 ],
 "metadata": {
  "kernelspec": {
   "display_name": "Python 3 (ipykernel)",
   "language": "python",
   "name": "python3"
  },
  "language_info": {
   "codemirror_mode": {
    "name": "ipython",
    "version": 3
   },
   "file_extension": ".py",
   "mimetype": "text/x-python",
   "name": "python",
   "nbconvert_exporter": "python",
   "pygments_lexer": "ipython3",
   "version": "3.13.2"
  }
 },
 "nbformat": 4,
 "nbformat_minor": 5
}
