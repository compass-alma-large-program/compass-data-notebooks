{
 "cells": [
  {
   "cell_type": "markdown",
   "id": "501c38de-3810-47a0-afc6-f6b005387e3d",
   "metadata": {},
   "source": [
    "# Apply the primary beam correction to a cube"
   ]
  },
  {
   "cell_type": "markdown",
   "id": "d4019778-4948-47ab-976f-e32bba5eac27",
   "metadata": {},
   "source": [
    "This notebook applies the primary beam correction to a cube."
   ]
  },
  {
   "cell_type": "markdown",
   "id": "36c903d8-0e93-4d6f-b761-336605cf0381",
   "metadata": {},
   "source": [
    "## Initialization"
   ]
  },
  {
   "cell_type": "code",
   "execution_count": null,
   "id": "7f2c134e-3da9-4ec1-9d0c-1f6d11bde518",
   "metadata": {
    "tags": []
   },
   "outputs": [],
   "source": [
    "!pip install -r requirements.txt > /dev/null"
   ]
  },
  {
   "cell_type": "code",
   "execution_count": null,
   "id": "befa2e22-7ff5-47ca-b383-da1c1bd770f8",
   "metadata": {
    "tags": []
   },
   "outputs": [],
   "source": [
    "from spectral_cube import SpectralCube\n",
    "from compass import datadir, apply_primary_beam_correction"
   ]
  },
  {
   "cell_type": "markdown",
   "id": "a0cb4b80-70cc-4dae-96dc-c286aaa16a93",
   "metadata": {
    "tags": []
   },
   "source": [
    "## Define the source, the frequency setting and the spectral window"
   ]
  },
  {
   "cell_type": "code",
   "execution_count": null,
   "id": "3d297a7f-9469-4bd1-a720-8d79580bde90",
   "metadata": {
    "tags": []
   },
   "outputs": [],
   "source": [
    "source = \"bhr71\"\n",
    "setting = 1\n",
    "spw = 25"
   ]
  },
  {
   "cell_type": "markdown",
   "id": "02966146-a164-4b64-88e6-d1cf85a42497",
   "metadata": {},
   "source": [
    "## Read the cube"
   ]
  },
  {
   "cell_type": "code",
   "execution_count": null,
   "id": "eaef956d-b0c8-4b71-b8a9-2b1c6af5ea26",
   "metadata": {
    "tags": []
   },
   "outputs": [],
   "source": [
    "cube = SpectralCube.read(\n",
    "    datadir + \"{}/cubes/{}-set{}-spw{}-lines.fits\".format(source, source, setting, spw)\n",
    ")"
   ]
  },
  {
   "cell_type": "markdown",
   "id": "70716010-1fb5-4c77-831f-1daf39dda178",
   "metadata": {
    "tags": []
   },
   "source": [
    "## Apply the primary beam correction"
   ]
  },
  {
   "cell_type": "markdown",
   "id": "9e62b783-cbd5-4b79-aba2-3edddd4063a5",
   "metadata": {},
   "source": [
    "**Warning: this operation requires to load the entire cube in memory. It may fail for large cubes.**"
   ]
  },
  {
   "cell_type": "code",
   "execution_count": null,
   "id": "5d75f68d-307c-4903-87f7-5bac84daf299",
   "metadata": {
    "tags": []
   },
   "outputs": [],
   "source": [
    "cube = apply_primary_beam_correction(cube, threshold=0.1)"
   ]
  },
  {
   "cell_type": "markdown",
   "id": "d363c715-7717-4070-8dd2-ea99bcb5454a",
   "metadata": {},
   "source": [
    "## Save the corrected cube"
   ]
  },
  {
   "cell_type": "code",
   "execution_count": null,
   "id": "b846af41-b76e-4335-895c-a910e0e4d8cb",
   "metadata": {},
   "outputs": [],
   "source": [
    "output = \"./{}-set{}-spw{}-lines-pbcor.fits\".format(source, setting, spw)\n",
    "cube.write(output, overwrite=True)"
   ]
  }
 ],
 "metadata": {
  "kernelspec": {
   "display_name": "Python 3 (ipykernel)",
   "language": "python",
   "name": "python3"
  },
  "language_info": {
   "codemirror_mode": {
    "name": "ipython",
    "version": 3
   },
   "file_extension": ".py",
   "mimetype": "text/x-python",
   "name": "python",
   "nbconvert_exporter": "python",
   "pygments_lexer": "ipython3",
   "version": "3.13.2"
  }
 },
 "nbformat": 4,
 "nbformat_minor": 5
}
