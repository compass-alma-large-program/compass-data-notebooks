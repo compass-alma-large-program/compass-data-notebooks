{
 "cells": [
  {
   "cell_type": "markdown",
   "id": "ba937073-bd8c-4279-b961-7e164ced3755",
   "metadata": {},
   "source": [
    "# Make summary tables for the continuum images and line datacubes"
   ]
  },
  {
   "cell_type": "markdown",
   "id": "d3ef536c-5d8e-4b92-bd6d-a71806523532",
   "metadata": {},
   "source": [
    "This notebook creates tables containing the beam size, RMS, thermal noise, number of pixels, pixel size and image size for the reduced continuum image and line datacubes."
   ]
  },
  {
   "cell_type": "markdown",
   "id": "09c99070-1177-43bc-b36a-6e781c469b3c",
   "metadata": {},
   "source": [
    "## Initialisation"
   ]
  },
  {
   "cell_type": "code",
   "execution_count": null,
   "id": "d3ba180b-42c9-494c-a1f4-26cdcb5ba194",
   "metadata": {},
   "outputs": [],
   "source": [
    "!pip install -r requirements.txt > /dev/null"
   ]
  },
  {
   "cell_type": "code",
   "execution_count": null,
   "id": "a72f386b-71ed-4d59-a958-9373b3bb3778",
   "metadata": {},
   "outputs": [],
   "source": [
    "from compass import datadir, maketable"
   ]
  },
  {
   "cell_type": "markdown",
   "id": "aa3da98e-23ed-434c-99c4-e4842d6eaccf",
   "metadata": {},
   "source": [
    "## Select the sources and the settings"
   ]
  },
  {
   "cell_type": "code",
   "execution_count": null,
   "id": "97f8223d-f842-43ff-8857-202550546439",
   "metadata": {},
   "outputs": [],
   "source": [
    "source = \"serp1a\"\n",
    "settings = [5]"
   ]
  },
  {
   "cell_type": "markdown",
   "id": "d0317f08-1816-4102-9c9d-392155568187",
   "metadata": {},
   "source": [
    "## Make the tables"
   ]
  },
  {
   "cell_type": "markdown",
   "id": "33df15e2-181f-43da-94e6-a1e651a3667b",
   "metadata": {},
   "source": [
    "### Continuum"
   ]
  },
  {
   "cell_type": "code",
   "execution_count": null,
   "id": "aa2a93e0-d183-4ae4-bedd-9567f596ddd4",
   "metadata": {},
   "outputs": [],
   "source": [
    "maketable(source, settings=settings, datadir=datadir, continuum=True)"
   ]
  },
  {
   "cell_type": "markdown",
   "id": "761dbf39-0648-4e01-a836-c47f46447b2c",
   "metadata": {},
   "source": [
    "### Lines"
   ]
  },
  {
   "cell_type": "code",
   "execution_count": null,
   "id": "f94cd20e-5451-4906-9e96-4995de640309",
   "metadata": {},
   "outputs": [],
   "source": [
    "maketable(source, settings=settings, datadir=datadir, continuum=False)"
   ]
  },
  {
   "cell_type": "code",
   "execution_count": null,
   "id": "12a72037-ec9b-4f97-9438-daeeba27e2dc",
   "metadata": {},
   "outputs": [],
   "source": []
  }
 ],
 "metadata": {
  "kernelspec": {
   "display_name": "Python 3 (ipykernel)",
   "language": "python",
   "name": "python3"
  },
  "language_info": {
   "codemirror_mode": {
    "name": "ipython",
    "version": 3
   },
   "file_extension": ".py",
   "mimetype": "text/x-python",
   "name": "python",
   "nbconvert_exporter": "python",
   "pygments_lexer": "ipython3",
   "version": "3.12.5"
  }
 },
 "nbformat": 4,
 "nbformat_minor": 5
}
