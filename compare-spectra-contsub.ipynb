{
 "cells": [
  {
   "cell_type": "markdown",
   "id": "501c38de-3810-47a0-afc6-f6b005387e3d",
   "metadata": {},
   "source": [
    "# Compare spectra produced by two different continuum subtraction techniques"
   ]
  },
  {
   "cell_type": "markdown",
   "id": "d4019778-4948-47ab-976f-e32bba5eac27",
   "metadata": {},
   "source": [
    "This notebook compares the spectra produced with two continuum substraction techniques: in the uv plane and in the image plane."
   ]
  },
  {
   "cell_type": "markdown",
   "id": "36c903d8-0e93-4d6f-b761-336605cf0381",
   "metadata": {},
   "source": [
    "## Initialization"
   ]
  },
  {
   "cell_type": "code",
   "execution_count": null,
   "id": "7f2c134e-3da9-4ec1-9d0c-1f6d11bde518",
   "metadata": {
    "tags": []
   },
   "outputs": [],
   "source": [
    "!pip install -r requirements.txt > /dev/null"
   ]
  },
  {
   "cell_type": "code",
   "execution_count": null,
   "id": "befa2e22-7ff5-47ca-b383-da1c1bd770f8",
   "metadata": {
    "tags": []
   },
   "outputs": [],
   "source": [
    "import numpy as np\n",
    "from astropy import units as u\n",
    "from spectral_cube import SpectralCube\n",
    "from matplotlib import pyplot as plt\n",
    "from compass import datadir, extract_spectrum_from_cube, reference_position"
   ]
  },
  {
   "cell_type": "code",
   "execution_count": null,
   "id": "ce2aef43-f5de-4058-ba32-29d4b87b7ae0",
   "metadata": {
    "tags": []
   },
   "outputs": [],
   "source": [
    "%matplotlib widget"
   ]
  },
  {
   "cell_type": "markdown",
   "id": "a0cb4b80-70cc-4dae-96dc-c286aaa16a93",
   "metadata": {
    "tags": []
   },
   "source": [
    "## Define the source, the frequency setting and the spectral window"
   ]
  },
  {
   "cell_type": "code",
   "execution_count": null,
   "id": "3d297a7f-9469-4bd1-a720-8d79580bde90",
   "metadata": {
    "tags": []
   },
   "outputs": [],
   "source": [
    "source = \"bhr71\"\n",
    "pos = reference_position[source]\n",
    "setting = 5\n",
    "spw = 27\n",
    "test_subdir = \"tests/contsub/\""
   ]
  },
  {
   "cell_type": "markdown",
   "id": "51403d02-8edd-4884-8e55-41cd3f194510",
   "metadata": {},
   "source": [
    "## List of frequencies with potential baseline substraction problems in the UV plane"
   ]
  },
  {
   "cell_type": "markdown",
   "id": "5ea19e65-5ce8-454e-8fae-9b37ddda1aec",
   "metadata": {},
   "source": [
    "See this [document](https://docs.google.com/spreadsheets/d/1l571cEiDvEaeWhq0sk4l4viM7bEgSS-csxVGiSgsM0E/edit?gid=0#gid=0)."
   ]
  },
  {
   "cell_type": "code",
   "execution_count": null,
   "id": "7f68161c-aa1a-4a7c-b83b-59a05cc9d6a7",
   "metadata": {},
   "outputs": [],
   "source": [
    "freq_with_baseline_problem = [\n",
    "    289.780,\n",
    "    291.022,\n",
    "    283.200,\n",
    "    286.081,\n",
    "    299.533,\n",
    "    309.896,\n",
    "    309.876,\n",
    "    283.398,\n",
    "    288.211,\n",
    "    286.570,\n",
    "    289.664,\n",
    "    294.583,\n",
    "    295.913,\n",
    "    296.880,\n",
    "    305.663,\n",
    "    279.450,\n",
    "    294.375,\n",
    "    294.75,\n",
    "    285.625,\n",
    "    285.450,\n",
    "    286.6,\n",
    "    303.250,\n",
    "    280.100,\n",
    "    279.97,\n",
    "    296.44,\n",
    "    294.8,\n",
    "    294.96,\n",
    "    295.18,\n",
    "    303.160,\n",
    "    303.250,\n",
    "    285.43,\n",
    "    295.21,\n",
    "    294.960,\n",
    "    285.77,\n",
    "    303.67,\n",
    "]"
   ]
  },
  {
   "cell_type": "markdown",
   "id": "02966146-a164-4b64-88e6-d1cf85a42497",
   "metadata": {},
   "source": [
    "## Read the cube produced with a substraction in the UV plane"
   ]
  },
  {
   "cell_type": "code",
   "execution_count": null,
   "id": "eaef956d-b0c8-4b71-b8a9-2b1c6af5ea26",
   "metadata": {
    "tags": []
   },
   "outputs": [],
   "source": [
    "cube_fid = SpectralCube.read(\n",
    "    datadir + \"{}/cubes/{}-set{}-spw{}-lines.fits\".format(source, source, setting, spw)\n",
    ")\n",
    "restfreq_fid = cube_fid.header[\"RESTFRQ\"] * u.Hz\n",
    "spectrum_fid = extract_spectrum_from_cube(cube_fid, pos)"
   ]
  },
  {
   "cell_type": "markdown",
   "id": "70716010-1fb5-4c77-831f-1daf39dda178",
   "metadata": {
    "tags": []
   },
   "source": [
    "## Read the cube produced with a substraction in the image plane"
   ]
  },
  {
   "cell_type": "code",
   "execution_count": null,
   "id": "5d75f68d-307c-4903-87f7-5bac84daf299",
   "metadata": {
    "tags": []
   },
   "outputs": [],
   "source": [
    "cube_test = SpectralCube.read(\n",
    "    datadir\n",
    "    + \"{}/{}/cubes/{}-set{}-spw{}-lines.fits\".format(\n",
    "        test_subdir, source, source, setting, spw\n",
    "    )\n",
    ")\n",
    "restfreq_test = cube_test.header[\"RESTFRQ\"] * u.Hz\n",
    "spectrum_test = extract_spectrum_from_cube(cube_test, pos)"
   ]
  },
  {
   "cell_type": "markdown",
   "id": "38f586aa-8937-4104-b59d-b29d929d484a",
   "metadata": {},
   "source": [
    "## Plot the spectra"
   ]
  },
  {
   "cell_type": "code",
   "execution_count": null,
   "id": "afdf9f3d-2997-4ee1-8022-3de32e5023f1",
   "metadata": {
    "tags": []
   },
   "outputs": [],
   "source": [
    "fig, ax = plt.subplots(\n",
    "    num=\"{} setting {} spw {}\".format(source, setting, spw), clear=True\n",
    ")\n",
    "f = ax.step(\n",
    "    spectrum_fid.spectral_axis.to(\n",
    "        u.GHz, equivalencies=u.doppler_radio(restfreq_fid)\n",
    "    ).value,\n",
    "    spectrum_fid.to(u.K).value,\n",
    "    label=\"UV plane\",\n",
    ")\n",
    "t = ax.step(\n",
    "    spectrum_test.spectral_axis.to(\n",
    "        u.GHz, equivalencies=u.doppler_radio(restfreq_test)\n",
    "    ).value,\n",
    "    spectrum_test.to(u.K).value,\n",
    "    label=\"Image plane\",\n",
    ")\n",
    "baseline = np.zeros_like(spectrum_fid.spectral_axis.value)\n",
    "b = ax.plot(\n",
    "    spectrum_fid.spectral_axis.to(\n",
    "        u.GHz, equivalencies=u.doppler_radio(restfreq_fid)\n",
    "    ).value,\n",
    "    baseline,\n",
    "    color=\"black\",\n",
    "    linestyle=\"dotted\",\n",
    ")\n",
    "ax.set_xlabel(\"Frequency (GHz)\")\n",
    "ax.set_ylabel(\"Brightness temperature (K)\")\n",
    "ll = ax.legend()"
   ]
  },
  {
   "cell_type": "markdown",
   "id": "92988f77-2cbf-40d6-9136-50e09465ea8e",
   "metadata": {},
   "source": [
    "## Mark the regions with potential baseline substraction problems"
   ]
  },
  {
   "cell_type": "code",
   "execution_count": null,
   "id": "e70c101a-81b3-4ec2-9248-67320b3948ec",
   "metadata": {},
   "outputs": [],
   "source": [
    "bandwidth = 0.005\n",
    "fmin, fmax = ax.get_xlim()\n",
    "for freq in freq_with_baseline_problem:\n",
    "    if freq > fmin and freq < fmax:\n",
    "        ax.axvspan(\n",
    "            freq - bandwidth / 2.0,\n",
    "            freq + bandwidth / 2.0,\n",
    "            color=\"red\",\n",
    "            alpha=0.25,\n",
    "            lw=0,\n",
    "        )"
   ]
  },
  {
   "cell_type": "markdown",
   "id": "6b293265-7c2e-4fa8-9159-9f77f22daf59",
   "metadata": {},
   "source": [
    "## Show the RMS"
   ]
  },
  {
   "cell_type": "code",
   "execution_count": null,
   "id": "a3c05dec-f4d8-477e-b7bd-ce6a2679c653",
   "metadata": {},
   "outputs": [],
   "source": [
    "rms = (cube_fid.header[\"NOISEMEA\"] * cube_fid.unit).to(\n",
    "    u.K, u.brightness_temperature(restfreq_fid, cube_fid.beam)\n",
    ")\n",
    "ax.axhspan(\n",
    "    -rms.value,\n",
    "    rms.value,\n",
    "    color=\"grey\",\n",
    "    alpha=0.25,\n",
    ")  # +/- 1 sigma"
   ]
  }
 ],
 "metadata": {
  "kernelspec": {
   "display_name": "Python 3 (ipykernel)",
   "language": "python",
   "name": "python3"
  },
  "language_info": {
   "codemirror_mode": {
    "name": "ipython",
    "version": 3
   },
   "file_extension": ".py",
   "mimetype": "text/x-python",
   "name": "python",
   "nbconvert_exporter": "python",
   "pygments_lexer": "ipython3",
   "version": "3.12.6"
  }
 },
 "nbformat": 4,
 "nbformat_minor": 5
}
