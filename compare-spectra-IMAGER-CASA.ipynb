{
 "cells": [
  {
   "cell_type": "markdown",
   "id": "501c38de-3810-47a0-afc6-f6b005387e3d",
   "metadata": {},
   "source": [
    "# Compare the data produced by IMAGER and CASA"
   ]
  },
  {
   "cell_type": "markdown",
   "id": "d4019778-4948-47ab-976f-e32bba5eac27",
   "metadata": {},
   "source": [
    "This notebook compares the data cubes produced by IMAGER and CASA. "
   ]
  },
  {
   "cell_type": "markdown",
   "id": "36c903d8-0e93-4d6f-b761-336605cf0381",
   "metadata": {},
   "source": [
    "## Initialization"
   ]
  },
  {
   "cell_type": "code",
   "execution_count": null,
   "id": "7f2c134e-3da9-4ec1-9d0c-1f6d11bde518",
   "metadata": {
    "tags": []
   },
   "outputs": [],
   "source": [
    "!pip install -r requirements.txt > /dev/null"
   ]
  },
  {
   "cell_type": "code",
   "execution_count": null,
   "id": "befa2e22-7ff5-47ca-b383-da1c1bd770f8",
   "metadata": {
    "tags": []
   },
   "outputs": [],
   "source": [
    "import numpy as np\n",
    "from astropy import units as u\n",
    "from spectral_cube import SpectralCube\n",
    "from matplotlib import pyplot as plt\n",
    "from compass import datadir, extract_spectrum_from_cube, reference_position\n",
    "from compass.cubes import extract_line, zeroth_order_moment"
   ]
  },
  {
   "cell_type": "code",
   "execution_count": null,
   "id": "ce2aef43-f5de-4058-ba32-29d4b87b7ae0",
   "metadata": {
    "tags": []
   },
   "outputs": [],
   "source": [
    "%matplotlib widget\n",
    "%load_ext jupyter_black"
   ]
  },
  {
   "cell_type": "markdown",
   "id": "032ddc7b-64cf-47f4-8ab5-0427939432aa",
   "metadata": {
    "tags": []
   },
   "source": [
    "## Define the source, the frequency setting and the spectral window"
   ]
  },
  {
   "cell_type": "code",
   "execution_count": null,
   "id": "3d297a7f-9469-4bd1-a720-8d79580bde90",
   "metadata": {
    "tags": []
   },
   "outputs": [],
   "source": [
    "source = \"bhr71\"\n",
    "pos = reference_position[source]\n",
    "setting = 6\n",
    "casa_settings = {1: \"a\", 2: \"b\", 3: \"c\", 4: \"d\", 5: \"e\", 6: \"f\", 7: \"g\", 8: \"h\", 9: \"i\"}\n",
    "spw = 25"
   ]
  },
  {
   "cell_type": "markdown",
   "id": "02966146-a164-4b64-88e6-d1cf85a42497",
   "metadata": {},
   "source": [
    "## Read the cube produced by CASA and IMAGER"
   ]
  },
  {
   "cell_type": "code",
   "execution_count": null,
   "id": "eaef956d-b0c8-4b71-b8a9-2b1c6af5ea26",
   "metadata": {
    "tags": []
   },
   "outputs": [],
   "source": [
    "cube_casa = SpectralCube.read(\n",
    "    datadir\n",
    "    + \"../reduced-casa/{}/tune{}/oussid.s8_0.BHR71-IRS1_sci.spw{}.cube.selfcal.I.iter1.image.fits\".format(\n",
    "        source, casa_settings[setting], spw\n",
    "    )\n",
    ").with_spectral_unit(u.GHz)"
   ]
  },
  {
   "cell_type": "code",
   "execution_count": null,
   "id": "5d75f68d-307c-4903-87f7-5bac84daf299",
   "metadata": {
    "tags": []
   },
   "outputs": [],
   "source": [
    "cube_imager = SpectralCube.read(\n",
    "    datadir + \"bhr71/cubes/bhr71-set{}-spw{}-lines.fits\".format(setting, spw)\n",
    ").with_spectral_unit(u.GHz)"
   ]
  },
  {
   "cell_type": "markdown",
   "id": "38f586aa-8937-4104-b59d-b29d929d484a",
   "metadata": {},
   "source": [
    "## Make a figure to compare the spectra extracted at a given position"
   ]
  },
  {
   "cell_type": "markdown",
   "id": "b4c1abfb-d633-4f0d-97a0-6d11e91a7849",
   "metadata": {},
   "source": [
    "Extract spectra from the CASA and IMAGER cubes:"
   ]
  },
  {
   "cell_type": "code",
   "execution_count": null,
   "id": "642ea39e-89d8-47f3-a91b-8953bde13667",
   "metadata": {},
   "outputs": [],
   "source": [
    "spectrum_casa = extract_spectrum_from_cube(cube_casa, pos)\n",
    "spectrum_imager = extract_spectrum_from_cube(cube_imager, pos)"
   ]
  },
  {
   "cell_type": "markdown",
   "id": "a8db5077-cc71-4dad-991f-dd36dcd94ca8",
   "metadata": {},
   "source": [
    "Plot the spectra:"
   ]
  },
  {
   "cell_type": "code",
   "execution_count": null,
   "id": "afdf9f3d-2997-4ee1-8022-3de32e5023f1",
   "metadata": {
    "tags": []
   },
   "outputs": [],
   "source": [
    "plt.rcParams[\"font.family\"] = \"serif\"\n",
    "fig, ax = plt.subplots(\n",
    "    num=\"BHR71 setting {} spw {}\".format(setting, spw), figsize=(12, 6), clear=True\n",
    ")\n",
    "i = ax.step(\n",
    "    spectrum_imager.spectral_axis.value,\n",
    "    spectrum_imager.to(u.K).value,\n",
    "    label=\"Imager\",\n",
    "    zorder=2,\n",
    ")\n",
    "c = ax.step(\n",
    "    spectrum_casa.spectral_axis.value,\n",
    "    spectrum_casa.to(u.K).value,\n",
    "    label=\"Casa\",\n",
    "    zorder=1,\n",
    ")\n",
    "baseline = np.zeros_like(spectrum_imager.spectral_axis.value)\n",
    "b = ax.plot(\n",
    "    spectrum_imager.spectral_axis.value,\n",
    "    baseline,\n",
    "    color=\"black\",\n",
    "    linestyle=\"dotted\",\n",
    ")\n",
    "ax.set_xlabel(\"Frequency (GHz)\")\n",
    "ax.set_ylabel(\"Brightness temperature (K)\")\n",
    "ax.set_xlim(297.70, 297.90)\n",
    "ll = ax.legend()"
   ]
  },
  {
   "cell_type": "markdown",
   "id": "081ef55d-3e4c-4034-9659-56d2424f3508",
   "metadata": {},
   "source": [
    "Overplot the RMS:"
   ]
  },
  {
   "cell_type": "code",
   "execution_count": null,
   "id": "38fa1739-ed10-409b-ab7e-63315abcd7fd",
   "metadata": {},
   "outputs": [],
   "source": [
    "show_rms = True\n",
    "restfreq_imager = cube_imager.header[\"RESTFRQ\"] * u.Hz\n",
    "if show_rms:\n",
    "    rms = (cube_imager.header[\"NOISEMEA\"] * cube_imager.unit).to(\n",
    "        u.K, u.brightness_temperature(restfreq_imager, cube_imager.beam)\n",
    "    )\n",
    "    ax.axhspan(\n",
    "        -rms.value,\n",
    "        rms.value,\n",
    "        color=\"grey\",\n",
    "        alpha=0.25,\n",
    "    )  # +/- 1 sigma\n",
    "    ax.axhspan(\n",
    "        -rms.value * 3,\n",
    "        rms.value * 3,\n",
    "        color=\"grey\",\n",
    "        alpha=0.10,\n",
    "    )  # +/- 3 sigma"
   ]
  },
  {
   "cell_type": "markdown",
   "id": "22180e9e-b27d-4610-9ee7-a5b45be694c9",
   "metadata": {},
   "source": [
    "Save the figure:"
   ]
  },
  {
   "cell_type": "code",
   "execution_count": null,
   "id": "f7a12590-fbc5-447c-80b2-7a3f1f5a84b3",
   "metadata": {},
   "outputs": [],
   "source": [
    "plt.savefig(\"bhr71-spectra-imager-casa.pdf\", bbox_inches=\"tight\")"
   ]
  },
  {
   "cell_type": "markdown",
   "id": "5ebbbf2f-519c-4ec7-8909-fb5cb218ab54",
   "metadata": {},
   "source": [
    "## Make a figure to compare the moment 0 maps of a line"
   ]
  },
  {
   "cell_type": "markdown",
   "id": "e9b34a88-5230-45b4-be03-6bad9662af2b",
   "metadata": {},
   "source": [
    "Define the line frequency and velocity range:"
   ]
  },
  {
   "cell_type": "code",
   "execution_count": null,
   "id": "19f1e4d3-a0cb-450d-848d-f9ee09855b95",
   "metadata": {},
   "outputs": [],
   "source": [
    "line_freq = 297.830091 * u.GHz\n",
    "vmin, vmax = -5 * u.km / u.s, 10 * u.km / u.s"
   ]
  },
  {
   "cell_type": "markdown",
   "id": "834dce43-a70d-4358-aba7-967f787df43c",
   "metadata": {},
   "source": [
    "Extract the line from the cube:"
   ]
  },
  {
   "cell_type": "code",
   "execution_count": null,
   "id": "b713bc7e-334f-4310-ad6b-e8e92accc98f",
   "metadata": {},
   "outputs": [],
   "source": [
    "line_cube_imager = extract_line(cube_imager, restfreq=line_freq, vmin=vmin, vmax=vmax)\n",
    "line_cube_casa = extract_line(cube_casa, restfreq=line_freq, vmin=vmin, vmax=vmax)"
   ]
  },
  {
   "cell_type": "markdown",
   "id": "811a102b-2388-41ef-b354-829f6e320376",
   "metadata": {},
   "source": [
    "Check that the velocity range covers the entire line profile:"
   ]
  },
  {
   "cell_type": "code",
   "execution_count": null,
   "id": "e4ae3a03-0dac-4540-9067-1d38f1e9e0b2",
   "metadata": {},
   "outputs": [],
   "source": [
    "line_spectrum = extract_spectrum_from_cube(line_cube_imager, pos)"
   ]
  },
  {
   "cell_type": "code",
   "execution_count": null,
   "id": "1e17fb9c-b72a-4ef0-8012-8eb32f323279",
   "metadata": {},
   "outputs": [],
   "source": [
    "fig, ax = plt.subplots(num=\"Line profile\".format(), figsize=(8, 5), clear=True)\n",
    "i = ax.step(\n",
    "    line_spectrum.spectral_axis.value,\n",
    "    line_spectrum.to(u.K).value,\n",
    "    label=\"Imager\",\n",
    "    zorder=2,\n",
    ")\n",
    "ax.set_xlabel(\"$v_\\\\mathrm{LSR}$ (km/s)\")\n",
    "ax.set_ylabel(\"Brightness temperature (K)\")\n",
    "plt.show()"
   ]
  },
  {
   "cell_type": "code",
   "execution_count": null,
   "id": "c785218b-b76c-4c9c-bb7e-8fcb634c1fdd",
   "metadata": {},
   "outputs": [],
   "source": [
    "fig = plt.figure(figsize=(10, 5), clear=True)\n",
    "levels = np.linspace(10, 50, 5)  # * u.K * u.km / u.s\n",
    "vmin, vmax = 0, 50\n",
    "\n",
    "ax1, cb1 = zeroth_order_moment(\n",
    "    line_cube_imager.to(u.K),\n",
    "    fig,\n",
    "    map_center=pos,\n",
    "    map_size=3 * u.arcsec,\n",
    "    vmin=vmin,\n",
    "    vmax=vmax,\n",
    "    levels=levels,\n",
    "    subplot=121,\n",
    ")\n",
    "\n",
    "ax2, cb2 = zeroth_order_moment(\n",
    "    line_cube_casa.to(u.K),\n",
    "    fig,\n",
    "    map_center=pos,\n",
    "    map_size=3 * u.arcsec,\n",
    "    vmin=vmin,\n",
    "    vmax=vmax,\n",
    "    levels=levels,\n",
    "    subplot=122,\n",
    ")\n",
    "\n",
    "ax1.set_title(\"Imager\", pad=10)\n",
    "ra, dec = ax1.coords[0], ax1.coords[1]\n",
    "ra.set_axislabel(\"RA (ICRS)\")\n",
    "dec.set_axislabel(\"Dec. (ICRS)\")\n",
    "\n",
    "ax2.set_title(\"Casa\", pad=10)\n",
    "ra, dec = ax2.coords[0], ax2.coords[1]\n",
    "ra.set_axislabel(\" \")\n",
    "dec.set_axislabel(\" \")\n",
    "ra.set_ticks_visible(True)\n",
    "ra.set_ticklabel_visible(True)\n",
    "dec.set_ticks_visible(True)\n",
    "dec.set_ticklabel_visible(False)\n",
    "\n",
    "cb2.set_label(\"Zeroth-order moment (K km/s)\", rotation=-90, labelpad=20)"
   ]
  },
  {
   "cell_type": "markdown",
   "id": "85facd52-fa37-4e3d-8135-f3d861297e44",
   "metadata": {},
   "source": [
    "Save the figure:"
   ]
  },
  {
   "cell_type": "code",
   "execution_count": null,
   "id": "67e9bd4c-9686-4594-a7f7-94af33ca3a6e",
   "metadata": {},
   "outputs": [],
   "source": [
    "plt.savefig(\"bhr71-moment0-imager-casa.pdf\", bbox_inches=\"tight\")"
   ]
  },
  {
   "cell_type": "code",
   "execution_count": null,
   "id": "abcec6da-242b-48cd-8a2e-5dd06151acdb",
   "metadata": {},
   "outputs": [],
   "source": []
  }
 ],
 "metadata": {
  "kernelspec": {
   "display_name": "Python 3 (ipykernel)",
   "language": "python",
   "name": "python3"
  },
  "language_info": {
   "codemirror_mode": {
    "name": "ipython",
    "version": 3
   },
   "file_extension": ".py",
   "mimetype": "text/x-python",
   "name": "python",
   "nbconvert_exporter": "python",
   "pygments_lexer": "ipython3",
   "version": "3.13.2"
  }
 },
 "nbformat": 4,
 "nbformat_minor": 5
}
