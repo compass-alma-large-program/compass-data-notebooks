{
 "cells": [
  {
   "cell_type": "markdown",
   "id": "501c38de-3810-47a0-afc6-f6b005387e3d",
   "metadata": {},
   "source": [
    "# Compare spectra produced by IMAGER and CASA"
   ]
  },
  {
   "cell_type": "markdown",
   "id": "d4019778-4948-47ab-976f-e32bba5eac27",
   "metadata": {},
   "source": [
    "This notebook compares the spectra extracted from the data cubes produced by IMAGER and CASA. "
   ]
  },
  {
   "cell_type": "markdown",
   "id": "36c903d8-0e93-4d6f-b761-336605cf0381",
   "metadata": {},
   "source": [
    "## Initialization"
   ]
  },
  {
   "cell_type": "code",
   "execution_count": null,
   "id": "7f2c134e-3da9-4ec1-9d0c-1f6d11bde518",
   "metadata": {
    "tags": []
   },
   "outputs": [],
   "source": [
    "!pip install -r requirements.txt > /dev/null"
   ]
  },
  {
   "cell_type": "code",
   "execution_count": null,
   "id": "befa2e22-7ff5-47ca-b383-da1c1bd770f8",
   "metadata": {
    "tags": []
   },
   "outputs": [],
   "source": [
    "import numpy as np\n",
    "from astropy import units as u\n",
    "from astropy.coordinates import SkyCoord\n",
    "from spectral_cube import SpectralCube\n",
    "from matplotlib import pyplot as plt\n",
    "from compass import datadir, erda, extract_spectrum_from_cube"
   ]
  },
  {
   "cell_type": "code",
   "execution_count": null,
   "id": "ce2aef43-f5de-4058-ba32-29d4b87b7ae0",
   "metadata": {
    "tags": []
   },
   "outputs": [],
   "source": [
    "%matplotlib widget"
   ]
  },
  {
   "cell_type": "markdown",
   "id": "032ddc7b-64cf-47f4-8ab5-0427939432aa",
   "metadata": {
    "tags": []
   },
   "source": [
    "## Define the position, the frequency setting and the spectral window"
   ]
  },
  {
   "cell_type": "code",
   "execution_count": null,
   "id": "3d297a7f-9469-4bd1-a720-8d79580bde90",
   "metadata": {
    "tags": []
   },
   "outputs": [],
   "source": [
    "pos = SkyCoord(\"12h01m36.47554s\", \"-65d08m49.3509s\", frame=\"fk5\")\n",
    "setting = 7\n",
    "setting_casa = \"g\"\n",
    "spw = 31"
   ]
  },
  {
   "cell_type": "markdown",
   "id": "02966146-a164-4b64-88e6-d1cf85a42497",
   "metadata": {},
   "source": [
    "## Read the cube produced by CASA and extract spectrum from it"
   ]
  },
  {
   "cell_type": "code",
   "execution_count": null,
   "id": "eaef956d-b0c8-4b71-b8a9-2b1c6af5ea26",
   "metadata": {
    "tags": []
   },
   "outputs": [],
   "source": [
    "if erda:\n",
    "    cube_casa = SpectralCube.read(\n",
    "        \"../COMPASS/Reduced/BHR71_{}/Phase04/oussid.s10_0.BHR71-IRS1_sci.spw{}.cube.I.iter2.image.pbcor.fits\".format(\n",
    "            setting, spw\n",
    "        )\n",
    "    )\n",
    "    restfreq_casa = cube_casa.header[\"RESTFRQ\"] * u.Hz\n",
    "    spectrum_casa = extract_spectrum_from_cube(cube_casa, pos)"
   ]
  },
  {
   "cell_type": "markdown",
   "id": "70716010-1fb5-4c77-831f-1daf39dda178",
   "metadata": {
    "tags": []
   },
   "source": [
    "## Read the cube produced by IMAGER and extract a spectrum"
   ]
  },
  {
   "cell_type": "code",
   "execution_count": null,
   "id": "5d75f68d-307c-4903-87f7-5bac84daf299",
   "metadata": {
    "tags": []
   },
   "outputs": [],
   "source": [
    "cube_imager = SpectralCube.read(\n",
    "    datadir + \"bhr71/cubes/bhr71-set{}-spw{}-lines.fits\".format(setting, spw)\n",
    ")\n",
    "restfreq_imager = cube_imager.header[\"RESTFRQ\"] * u.Hz\n",
    "spectrum_imager = extract_spectrum_from_cube(cube_imager, pos)"
   ]
  },
  {
   "cell_type": "markdown",
   "id": "38f586aa-8937-4104-b59d-b29d929d484a",
   "metadata": {},
   "source": [
    "## Plot the spectra"
   ]
  },
  {
   "cell_type": "code",
   "execution_count": null,
   "id": "afdf9f3d-2997-4ee1-8022-3de32e5023f1",
   "metadata": {
    "tags": []
   },
   "outputs": [],
   "source": [
    "fig, ax = plt.subplots(num=\"BHR71 setting {} spw {}\".format(setting, spw), clear=True)\n",
    "i = ax.step(\n",
    "    spectrum_imager.spectral_axis.to(\n",
    "        u.GHz, equivalencies=u.doppler_radio(restfreq_imager)\n",
    "    ).value,\n",
    "    spectrum_imager.to(u.K).value,\n",
    "    label=\"Imager\",\n",
    ")\n",
    "if erda:\n",
    "    c = ax.step(\n",
    "        spectrum_casa.spectral_axis.to(\n",
    "            u.GHz, equivalencies=u.doppler_radio(restfreq_casa)\n",
    "        ).value,\n",
    "        spectrum_casa.to(u.K).value,\n",
    "        label=\"Casa\",\n",
    "    )\n",
    "baseline = np.zeros_like(spectrum_imager.spectral_axis.value)\n",
    "b = ax.plot(\n",
    "    spectrum_imager.spectral_axis.to(\n",
    "        u.GHz, equivalencies=u.doppler_radio(restfreq_imager)\n",
    "    ).value,\n",
    "    baseline,\n",
    "    color=\"black\",\n",
    "    linestyle=\"dotted\",\n",
    ")\n",
    "ax.set_xlabel(\"Frequency (GHz)\")\n",
    "ax.set_ylabel(\"Brightness temperature (K)\")\n",
    "ll = ax.legend()"
   ]
  }
 ],
 "metadata": {
  "kernelspec": {
   "display_name": "Python 3 (ipykernel)",
   "language": "python",
   "name": "python3"
  },
  "language_info": {
   "codemirror_mode": {
    "name": "ipython",
    "version": 3
   },
   "file_extension": ".py",
   "mimetype": "text/x-python",
   "name": "python",
   "nbconvert_exporter": "python",
   "pygments_lexer": "ipython3",
   "version": "3.12.3"
  }
 },
 "nbformat": 4,
 "nbformat_minor": 5
}
